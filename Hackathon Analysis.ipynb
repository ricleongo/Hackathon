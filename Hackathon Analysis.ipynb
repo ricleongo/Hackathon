{
 "cells": [
  {
   "cell_type": "code",
   "execution_count": null,
   "metadata": {},
   "outputs": [],
   "source": [
    "from splinter import Browser\n",
    "from bs4 import BeautifulSoup\n",
    "import pandas as pd\n",
    "import datetime as dt\n",
    "import json"
   ]
  },
  {
   "cell_type": "code",
   "execution_count": 133,
   "metadata": {},
   "outputs": [],
   "source": [
    "# Initiate headless driver for deployment\n",
    "browser = Browser(\"chrome\", executable_path=\"chromedriver\", headless=True)\n",
    "\n",
    "\n",
    "def load_browser(browser, url):\n",
    "    browser.visit(url)\n",
    "    \n",
    "    return browser\n",
    "\n",
    "\n",
    "def actions_used_by_recruiter():\n",
    "    array_dic = []\n",
    "    ### Total Usage:\n",
    "    api_urls = [\n",
    "        'https://recruitment-staging.ace.careerbuilder.com/api/cba/roi/actions/20180225/20190124',\n",
    "        'https://recruitment-staging.ace.careerbuilder.com/api/cba/roi/searches/20180225/20190124',\n",
    "        'https://recruitment-staging.ace.careerbuilder.com/api/cba/roi/emails/20180224/20190123',  \n",
    "        'https://recruitment-staging.ace.careerbuilder.com/api/cba/roi/intakes/20180224/20190123',\n",
    "        'https://recruitment-staging.ace.careerbuilder.com/api/cba/roi/campaigns-sent/20180224/20190123',\n",
    "    ]\n",
    "\n",
    "    for api_url in api_urls:\n",
    "        load_browser(browser, api_url)\n",
    "        array_dic.append(get_data_as_json(browser))\n",
    "    \n",
    "    return array_dic\n",
    "        \n",
    "        \n",
    "def most_viewed_resumes():\n",
    "\n",
    "    ### Job Positions most viewed:\n",
    "    api_url = 'https://recruitment-staging.ace.careerbuilder.com/api/cba/roi/resumes-stats/20180224/20190123'\n",
    "    load_browser(browser, api_url)\n",
    "    data = pd.DataFrame(get_data_as_json(browser))\n",
    "    \n",
    "    return data\n",
    "\n",
    "def get_candidate_growth():\n",
    "    \n",
    "    ### Candidate Growth:\n",
    "    api_url = 'https://recruitment-staging.ace.careerbuilder.com/api/cba/roi/candidates-count/20160101/20190123'\n",
    "    load_browser(browser, api_url)\n",
    "    data = pd.DataFrame(get_data_as_json(browser))\n",
    "    data[\"mycand_member_growth\"] = pd.to_numeric(data[\"mycand_member_growth\"])\n",
    "    data['yearmonth'] = pd.to_datetime(data['yearmonth'], format=\"%Y%m\")\n",
    "    data[\"month\"] = data[\"yearmonth\"].dt.month_name()\n",
    "    data[\"year\"] = data[\"yearmonth\"].dt.year\n",
    "    \n",
    "    \n",
    "    return data\n",
    "\n",
    "def get_roi_data(browser):\n",
    "    api_data = []\n",
    "    \n",
    "    api_urls = [\n",
    "#         'https://recruitment-staging.ace.careerbuilder.com/api/cba/search/rdb/users/20180224/20190123',\n",
    "\n",
    "### Total Usage:        \n",
    "        'https://recruitment-staging.ace.careerbuilder.com/api/cba/roi/actions/20180225/20190124',\n",
    "        'https://recruitment-staging.ace.careerbuilder.com/api/cba/roi/searches/20180225/20190124',\n",
    "        'https://recruitment-staging.ace.careerbuilder.com/api/cba/roi/emails/20180224/20190123',  \n",
    "        'https://recruitment-staging.ace.careerbuilder.com/api/cba/roi/intakes/20180224/20190123',\n",
    "        'https://recruitment-staging.ace.careerbuilder.com/api/cba/roi/campaigns-sent/20180224/20190123',\n",
    "        \n",
    "### Talent Network Membership:\n",
    "#         'https://recruitment-staging.ace.careerbuilder.com/api/cba/roi/members/20190123',\n",
    "#         'https://recruitment-staging.ace.careerbuilder.com/api/cba/roi/new-members/20180224/20190123',\n",
    "        \n",
    "### Candidate Growth:\n",
    "        'https://recruitment-staging.ace.careerbuilder.com/api/cba/roi/candidates-count/20160101/20190123',\n",
    "\n",
    "### Job Positions most viewed:\n",
    "        'https://recruitment-staging.ace.careerbuilder.com/api/cba/roi/resumes-stats/20180224/20190123' #,\n",
    "\n",
    "#         'https://recruitment-staging.ace.careerbuilder.com/api/cba/roi/candidates-stats/20180224/20190123',\n",
    "#         'https://recruitment-staging.ace.careerbuilder.com/api/cba/roi/actions-comparison/20180224/20190123'    \n",
    "    ]\n",
    "    \n",
    "    for api_url in api_urls:\n",
    "        load_browser(browser, api_url)\n",
    "        dict_data = get_data_as_json(browser)\n",
    "#         df_data = pd.DataFrame(dict_data)\n",
    "        api_data.append(dict_data)\n",
    "#         api_data.append(pd.DataFrame.from_dict(dict_data)\n",
    "    \n",
    "    return api_data\n",
    "\n",
    "def get_search_data(browser):\n",
    "    api_data = []\n",
    "    \n",
    "    api_urls = [\n",
    "        'https://recruitment-staging.ace.careerbuilder.com/api/cba/search/tdp/users/20180225/20190124',\n",
    "        'https://recruitment-staging.ace.careerbuilder.com/api/cba/search/tdp/license-usage/20180225/20190124',\n",
    "        'https://recruitment-staging.ace.careerbuilder.com/api/cba/search/tdp/usage/20180225/20190124'\n",
    "    ]\n",
    "    \n",
    "    for api_url in api_urls:\n",
    "        load_browser(browser, api_url)\n",
    "        api_data.append(get_data_as_json(browser))\n",
    "    \n",
    "    return api_data\n",
    "\n",
    "def get_jobs_data(browser):\n",
    "    api_data = []\n",
    "    \n",
    "    api_urls = [\n",
    "        'https://recruitment-staging.ace.careerbuilder.com/api/cba/jobs/category/20180225/20190124',\n",
    "        'https://recruitment-staging.ace.careerbuilder.com/api/cba/jobs/location/20180225/20190124',\n",
    "        'https://recruitment-staging.ace.careerbuilder.com/api/cba/jobs/header/20180225/20190124?categories=&locations=',\n",
    "        'https://recruitment-staging.ace.careerbuilder.com/api/cba/jobs/monthly/20180225/20190124?categories=&locations='\n",
    "    ]\n",
    "    \n",
    "    for api_url in api_urls:\n",
    "        load_browser(browser, api_url)\n",
    "        api_data.append(get_data_as_json(browser))\n",
    "    \n",
    "    return api_data\n",
    "\n",
    "\n",
    "\n",
    "def login():\n",
    "    login_url = \"https://wwwtestaccounts.careerbuilder.com/share/login.aspx?next=https%3a%2f%2fwwwtestaccounts.careerbuilder.com%2fshare%2foauth2%2fauth.aspx%3fclient_id%3dCd03edb6f%26elui%3d1%26redirect_uri%3dhttps%25253a%25252f%25252frecruitment-staging.ace.careerbuilder.com%25252fauthCallback%25253foriginalUrl%25253d%2525252Fuserinfo%26response_type%3dcode%26scope%3dopenid&elui=1&client_id=Cd03edb6f\"\n",
    "    load_browser(browser, login_url)\n",
    "        \n",
    "    browser.fill_form({\"cbsys_login_email\": \"Personified.Tester3@careerbuilder.com\", \"cbsys_login_password\": \"c0lumbusrocks!\"}, form_id=None, name=None)\n",
    "    browser.find_by_id('btnsigninemp').click()\n",
    "    browser.is_text_present(\"username\", wait_time=0.5)\n",
    "\n",
    "    return True\n",
    "\n",
    "\n",
    "\n",
    "def get_data_as_json(browser):\n",
    "\n",
    "    html = browser.html\n",
    "    api_result = BeautifulSoup(html, \"html.parser\")\n",
    "\n",
    "    try:\n",
    "        json_string = api_result.select_one(\"body\").text\n",
    "\n",
    "    except AttributeError:\n",
    "        return None\n",
    "\n",
    "    return json.loads(json_string)\n"
   ]
  },
  {
   "cell_type": "code",
   "execution_count": 134,
   "metadata": {},
   "outputs": [
    {
     "data": {
      "text/plain": [
       "True"
      ]
     },
     "execution_count": 134,
     "metadata": {},
     "output_type": "execute_result"
    }
   ],
   "source": [
    "login()"
   ]
  },
  {
   "cell_type": "code",
   "execution_count": 187,
   "metadata": {},
   "outputs": [
    {
     "data": {
      "text/plain": [
       "['Total usage since January 2018 is...',\n",
       " 'Actions Taken 36,912.00',\n",
       " 'Supply & Demand Searches 92,146.00',\n",
       " 'Intakes Started 51,373.00',\n",
       " 'Campaigns Sent 401.00']"
      ]
     },
     "execution_count": 187,
     "metadata": {},
     "output_type": "execute_result"
    }
   ],
   "source": [
    "action_description = {\"sd_searches\": \"Supply & Demand Searches\",\n",
    "    \"intakes_started\": \"Intakes Started\",\n",
    "    \"actions_taken\": \"Actions Taken\",\n",
    "    \"campaigns_sent\": \"Campaigns Sent\",\n",
    "    \"emails_sent\": \"Talent Network Emails Sent\"}\n",
    "\n",
    "\n",
    "array_dict = actions_used_by_recruiter()\n",
    "\n",
    "data = pd.DataFrame.from_dict(array_dict[0], orient='index')\n",
    "data = data.append(pd.DataFrame.from_dict(array_dict[1], orient='index'))\n",
    "data = data.append(pd.DataFrame.from_dict(array_dict[2], orient='index'))\n",
    "data = data.append(pd.DataFrame.from_dict(array_dict[3], orient='index'))\n",
    "data = data.append(pd.DataFrame.from_dict(array_dict[4], orient='index'))\n",
    "\n",
    "data = data.dropna()\n",
    "\n",
    "data = data.rename(columns={0:\"values\"})\n",
    "data[\"values\"] = pd.to_numeric(data[\"values\"])\n",
    "\n",
    "data.sort_values(by=\"values\", ascending=False)\n",
    "\n",
    "response_ideas = [\n",
    "    \"Total usage since January 2018 is...\",\n",
    "]\n",
    "\n",
    "for index, row in data.reset_index().iterrows():\n",
    "    response_ideas.append(\"{} {:,.2f}\".format(action_description[row[0]], row[1]))\n",
    "\n",
    "response_ideas"
   ]
  },
  {
   "cell_type": "code",
   "execution_count": 157,
   "metadata": {},
   "outputs": [
    {
     "data": {
      "text/plain": [
       "[{'actions_taken': '36759'},\n",
       " {'sd_searches': '91938'},\n",
       " {'emails_sent': None},\n",
       " {'intakes_started': '51368'},\n",
       " {'campaigns_sent': '401'}]"
      ]
     },
     "execution_count": 157,
     "metadata": {},
     "output_type": "execute_result"
    }
   ],
   "source": [
    "data"
   ]
  },
  {
   "cell_type": "code",
   "execution_count": 120,
   "metadata": {},
   "outputs": [
    {
     "data": {
      "text/plain": [
       "['Top 3 most viewed resumes are...',\n",
       " 'Customer Service Representatives. MINEAPLS-ST. PL, with 60 views, from an inventory of 2256...',\n",
       " 'Web Developers. CHICAGO, with 51 views, from 6025...',\n",
       " 'General and Operations Managers. ATLANTA, with 50 views, from 5811...']"
      ]
     },
     "execution_count": 120,
     "metadata": {},
     "output_type": "execute_result"
    }
   ],
   "source": [
    "data = most_viewed_resumes()\n",
    "data[\"position\"] = data[\"onet_name\"].str.split(\" - \", n = 1, expand = True)[0]\n",
    "data[\"city\"] = data[\"onet_name\"].str.split(\" - \", n = 1, expand = True)[1]\n",
    "data = data.drop(columns=[\"onet_name\"])\n",
    "\n",
    "data\n",
    "\n",
    "position_1 = data.iloc[0][\"position\"]\n",
    "city_1 = data.iloc[0][\"city\"]\n",
    "viewed_1 = data.iloc[0][\"resume_viewed\"]\n",
    "inventory_1 = data.iloc[0][\"resume_inventory\"]\n",
    "\n",
    "position_2 = data.iloc[1][\"position\"]\n",
    "city_2 = data.iloc[1][\"city\"]\n",
    "viewed_2 = data.iloc[1][\"resume_viewed\"]\n",
    "inventory_2 = data.iloc[1][\"resume_inventory\"]\n",
    "\n",
    "position_3 = data.iloc[2][\"position\"]\n",
    "city_3 = data.iloc[2][\"city\"]\n",
    "viewed_3 = data.iloc[2][\"resume_viewed\"]\n",
    "inventory_3 = data.iloc[2][\"resume_inventory\"]\n",
    "\n",
    "response_ideas = [\n",
    "    \"Top 3 most viewed resumes are...\",\n",
    "    \"{}. {}, with {} views, from an inventory of {}...\".format(position_1, city_1, viewed_1, inventory_1),\n",
    "    \"{}. {}, with {} views, from {}...\".format(position_2, city_2, viewed_2, inventory_2),\n",
    "    \"{}. {}, with {} views, from {}...\".format(position_3, city_3, viewed_3, inventory_3)\n",
    "]\n",
    "\n",
    "response_ideas\n",
    "# \"Web Developer. CHICAGO, with 51 views from an inventory of 6025...\"\n",
    "# \"General and Operations Manager. Atlanta, with 50 views, from an inventory of 5811...\""
   ]
  },
  {
   "cell_type": "code",
   "execution_count": null,
   "metadata": {},
   "outputs": [],
   "source": [
    "data.sort_values(by=resume_viewed, ascending=False, inplace=True)\n"
   ]
  },
  {
   "cell_type": "code",
   "execution_count": null,
   "metadata": {},
   "outputs": [],
   "source": [
    "import numpy as np\n",
    "data = get_candidate_growth()\n",
    "data\n",
    "# np.sum(data[\"mycand_member_growth\"])\n",
    "# np.sum(data.iloc[0:])\n",
    "# print(data)\n",
    "# print(\"\")\n",
    "# print(data.iloc[0][\"month\"])\n",
    "# print(data.iloc[0][\"year\"])\n",
    "# print(\"\")\n",
    "# print(data.iloc[-1])\n",
    "# data[\"yearmonth\"].dt.month_name()\n",
    "\n",
    "\n",
    "### Since January 2018 the growth in candidates has been variable with \n",
    "### a high pitch in April 2018 37.63% and the lowest in January 2018\n",
    "### currently representing a lower growth of 7893"
   ]
  },
  {
   "cell_type": "code",
   "execution_count": null,
   "metadata": {},
   "outputs": [],
   "source": [
    "first_date = \"{} {}\".format(data.iloc[0][\"month\"], data.iloc[0][\"year\"])\n",
    "current_date = \"{} {}\".format(data.iloc[-1][\"month\"], data.iloc[-1][\"year\"])\n",
    "current_growth = data.iloc[-1][\"mycand_member_growth\"]\n",
    "\n",
    "data.sort_values(by=\"mycand_member_growth\", ascending=False, inplace=True)\n",
    "\n",
    "total = np.sum(data[\"mycand_member_growth\"])\n",
    "\n",
    "high_pitch = \"{} {}\".format(data.iloc[0][\"month\"], data.iloc[0][\"year\"])\n",
    "high_pitch_value = data.iloc[0][\"mycand_member_growth\"]\n",
    "high_pitch_value_mean = (high_pitch_value / total) * 100\n",
    "\n",
    "lower_pitch = \"{} {}\".format(data.iloc[-1][\"month\"], data.iloc[-1][\"year\"])\n",
    "lower_pitch_value = data.iloc[-1][\"mycand_member_growth\"]\n",
    "lower_pitch_value_mean = (lower_pitch_value / total) * 100\n",
    "\n",
    "response_ideas = [\n",
    "    \"Since {} the growth in candidates has been variable with\".format(first_date), \n",
    "    \"a high pitch in {} with {:.2f}% and the lowest in {}\".format(high_pitch, high_pitch_value_mean, lower_pitch),\n",
    "    \"currently representing a candidate growth of {}\".format(current_growth)\n",
    "]\n",
    "\n",
    "response_ideas"
   ]
  },
  {
   "cell_type": "code",
   "execution_count": null,
   "metadata": {
    "scrolled": false
   },
   "outputs": [],
   "source": [
    "get_roi_data(browser)"
   ]
  },
  {
   "cell_type": "code",
   "execution_count": null,
   "metadata": {
    "scrolled": true
   },
   "outputs": [],
   "source": [
    "get_search_data(browser)"
   ]
  },
  {
   "cell_type": "code",
   "execution_count": null,
   "metadata": {
    "scrolled": true
   },
   "outputs": [],
   "source": [
    "get_jobs_data(browser)"
   ]
  },
  {
   "cell_type": "code",
   "execution_count": null,
   "metadata": {},
   "outputs": [],
   "source": [
    "from voiceit2 import VoiceIt2\n"
   ]
  },
  {
   "cell_type": "code",
   "execution_count": null,
   "metadata": {},
   "outputs": [],
   "source": [
    "apiKey = 'key_27296bf11f754939add04c2dc4006e15'\n",
    "apiToken = 'tok_52f75f2532bc4ce7beaacb54340548a8'\n",
    "\n",
    "my_voiceit = VoiceIt2(apiKey, apiToken)\n"
   ]
  },
  {
   "cell_type": "code",
   "execution_count": null,
   "metadata": {},
   "outputs": [],
   "source": []
  }
 ],
 "metadata": {
  "kernelspec": {
   "display_name": "Python 3",
   "language": "python",
   "name": "python3"
  },
  "language_info": {
   "codemirror_mode": {
    "name": "ipython",
    "version": 3
   },
   "file_extension": ".py",
   "mimetype": "text/x-python",
   "name": "python",
   "nbconvert_exporter": "python",
   "pygments_lexer": "ipython3",
   "version": "3.6.5"
  }
 },
 "nbformat": 4,
 "nbformat_minor": 2
}
