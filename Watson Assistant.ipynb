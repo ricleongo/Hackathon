{
 "cells": [
  {
   "cell_type": "code",
   "execution_count": 1,
   "metadata": {},
   "outputs": [],
   "source": [
    "from __future__ import print_function\n",
    "import json\n",
    "from watson_developer_cloud import AssistantV2\n",
    "from secret.keys import *\n"
   ]
  },
  {
   "cell_type": "code",
   "execution_count": 2,
   "metadata": {},
   "outputs": [],
   "source": [
    "assistant = AssistantV2(\n",
    "    username=username, \n",
    "    password=password,\n",
    "    url=url,\n",
    "    version=version)\n"
   ]
  },
  {
   "cell_type": "code",
   "execution_count": 3,
   "metadata": {},
   "outputs": [],
   "source": [
    "session = assistant.create_session(assistanceID).get_result()\n",
    "sessionID = session['session_id']\n"
   ]
  },
  {
   "cell_type": "code",
   "execution_count": 9,
   "metadata": {},
   "outputs": [
    {
     "name": "stdout",
     "output_type": "stream",
     "text": [
      "{\n",
      "  \"output\": {\n",
      "    \"generic\": [\n",
      "      {\n",
      "        \"response_type\": \"text\",\n",
      "        \"text\": \"It is sunny\"\n",
      "      },\n",
      "      {\n",
      "        \"time\": 2,\n",
      "        \"typing\": true,\n",
      "        \"response_type\": \"pause\"\n",
      "      },\n",
      "      {\n",
      "        \"response_type\": \"text\",\n",
      "        \"text\": \"Go outside\"\n",
      "      }\n",
      "    ],\n",
      "    \"intents\": [\n",
      "      {\n",
      "        \"intent\": \"weather\",\n",
      "        \"confidence\": 0.9372719764709474\n",
      "      }\n",
      "    ],\n",
      "    \"entities\": []\n",
      "  }\n",
      "}\n"
     ]
    }
   ],
   "source": [
    "message = assistant.message(\n",
    "    assistanceID,\n",
    "    sessionID,\n",
    "    input={'text': 'What\\'s the weather like?'}).get_result()\n",
    "print(json.dumps(message, indent=2))\n",
    "\n"
   ]
  },
  {
   "cell_type": "code",
   "execution_count": null,
   "metadata": {},
   "outputs": [],
   "source": []
  }
 ],
 "metadata": {
  "kernelspec": {
   "display_name": "Python [default]",
   "language": "python",
   "name": "python3"
  },
  "language_info": {
   "codemirror_mode": {
    "name": "ipython",
    "version": 3
   },
   "file_extension": ".py",
   "mimetype": "text/x-python",
   "name": "python",
   "nbconvert_exporter": "python",
   "pygments_lexer": "ipython3",
   "version": "3.6.5"
  }
 },
 "nbformat": 4,
 "nbformat_minor": 2
}
